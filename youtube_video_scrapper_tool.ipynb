{
  "nbformat": 4,
  "nbformat_minor": 0,
  "metadata": {
    "colab": {
      "provenance": []
    },
    "kernelspec": {
      "name": "python3",
      "display_name": "Python 3"
    },
    "language_info": {
      "name": "python"
    }
  },
  "cells": [
    {
      "cell_type": "code",
      "source": [
        "import sys\n",
        "import subprocess\n",
        "\n",
        "def install_packages():\n",
        "    packages = [\"requests\", \"beautifulsoup4\", \"pandas\", \"google-search-results\"]\n",
        "    for package in packages:\n",
        "        try:\n",
        "            __import__(package)\n",
        "        except ImportError:\n",
        "            subprocess.check_call([sys.executable, \"-m\", \"pip\", \"install\", package])\n",
        "\n",
        "install_packages()\n",
        "\n",
        "import requests\n",
        "import pandas as pd\n",
        "\n",
        "def youtube_video_scraper(query, max_results=10):\n",
        "    \"\"\"\n",
        "    Fetches YouTube video results using SerpAPI.\n",
        "    \"\"\"\n",
        "    api_key = \"bcc39452a15e256ee9a03213aede7be60ffc66bb4e044be17296963493fef2ab\"  # Replace with your actual SerpAPI key\n",
        "    url = \"https://serpapi.com/search\"\n",
        "    params = {\n",
        "        \"engine\": \"youtube\",\n",
        "        \"search_query\": query,\n",
        "        \"api_key\": api_key,\n",
        "        \"num\": max_results\n",
        "    }\n",
        "\n",
        "    response = requests.get(url, params=params)\n",
        "    data = response.json()\n",
        "\n",
        "    video_results = []\n",
        "    for item in data.get(\"video_results\", []):\n",
        "        title = item.get(\"title\", \"No Title\")\n",
        "        video_url = item.get(\"link\", \"No URL\")\n",
        "        description = item.get(\"snippet\") or item.get(\"rich_snippet\") or item.get(\"description\", \"No Description\")\n",
        "        channel_info = item.get(\"channel\", {})\n",
        "        channel_name = channel_info.get(\"name\", \"Unknown Channel\")\n",
        "        views = item.get(\"views\", \"Unknown Views\")\n",
        "\n",
        "        video_results.append({\n",
        "            \"Title\": title,\n",
        "            \"URL\": video_url,\n",
        "            \"Description\": description,\n",
        "            \"Channel Name\": channel_name,\n",
        "            \"Views\": views\n",
        "        })\n",
        "\n",
        "    return video_results\n",
        "\n",
        "def save_to_csv(results, filename=\"youtube_video_results.csv\"):\n",
        "    \"\"\"\n",
        "    Saves the YouTube video results to a CSV file.\n",
        "    \"\"\"\n",
        "    df = pd.DataFrame(results)\n",
        "    df.to_csv(filename, index=False)\n",
        "    print(f\"Results saved to {filename}\")\n",
        "\n",
        "if __name__ == \"__main__\":\n",
        "    query = input(\"Enter YouTube search query: \")\n",
        "    results = youtube_video_scraper(query)\n",
        "    if results:\n",
        "        save_to_csv(results)\n",
        "    else:\n",
        "        print(\"No results found.\")\n"
      ],
      "metadata": {
        "colab": {
          "base_uri": "https://localhost:8080/"
        },
        "id": "7cQi5ADeCUoq",
        "outputId": "b12b4a84-c238-4439-a353-af86c59b4cfd"
      },
      "execution_count": 14,
      "outputs": [
        {
          "output_type": "stream",
          "name": "stdout",
          "text": [
            "Enter YouTube search query: Breaking world news today\n",
            "Results saved to youtube_video_results.csv\n"
          ]
        }
      ]
    },
    {
      "cell_type": "code",
      "source": [],
      "metadata": {
        "id": "CRVmPXdREnVS"
      },
      "execution_count": null,
      "outputs": []
    }
  ]
}