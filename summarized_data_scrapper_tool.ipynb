{
  "nbformat": 4,
  "nbformat_minor": 0,
  "metadata": {
    "colab": {
      "provenance": []
    },
    "kernelspec": {
      "name": "python3",
      "display_name": "Python 3"
    },
    "language_info": {
      "name": "python"
    }
  },
  "cells": [
    {
      "cell_type": "code",
      "source": [
        "import sys\n",
        "import subprocess\n",
        "\n",
        "def install_packages():\n",
        "    packages = [\"requests\", \"pandas\"]\n",
        "    for package in packages:\n",
        "        try:\n",
        "            __import__(package)\n",
        "        except ImportError:\n",
        "            subprocess.check_call([sys.executable, \"-m\", \"pip\", \"install\", package])\n",
        "\n",
        "install_packages()\n",
        "\n",
        "import requests\n",
        "import pandas as pd\n",
        "\n",
        "def summarize_with_serpapi(query, api_key):\n",
        "    url = \"https://serpapi.com/search\"\n",
        "    params = {\n",
        "        \"engine\": \"google\",\n",
        "        \"q\": query,\n",
        "        \"api_key\": api_key\n",
        "    }\n",
        "\n",
        "    try:\n",
        "        response = requests.get(url, params=params)\n",
        "        response.raise_for_status()\n",
        "        data = response.json()\n",
        "    except requests.exceptions.RequestException as e:\n",
        "        print(f\"Request failed for query '{query}': {e}\")\n",
        "        return \"Summary fetch error\"\n",
        "\n",
        "    summary = data.get(\"answer_box\", {}).get(\"snippet\") or \\\n",
        "              data.get(\"organic_results\", [{}])[0].get(\"snippet\") or \\\n",
        "              data.get(\"knowledge_graph\", {}).get(\"description\") or \\\n",
        "              \"No Summary Available\"\n",
        "\n",
        "    return summary\n",
        "\n",
        "def process_csv(file_path, api_key):\n",
        "    df = pd.read_csv(file_path)\n",
        "    if \"Title\" not in df.columns:\n",
        "        print(\"No 'Title' column found.\")\n",
        "        return\n",
        "\n",
        "    df.drop_duplicates(subset=[\"Title\"], inplace=True)  # Deduplication\n",
        "    df[\"Title\"] = df[\"Title\"].astype(str).str.strip()  # Enrichment/cleanup\n",
        "\n",
        "    df[\"Summary\"] = df[\"Title\"].apply(lambda x: summarize_with_serpapi(x, api_key) if pd.notna(x) else \"No Summary\")\n",
        "    df.dropna(subset=[\"Summary\"], inplace=True)  # Validation\n",
        "    df = df[df[\"Summary\"] != \"No Summary Available\"]  # Remove generic fallback\n",
        "\n",
        "    output_file = \"summarized_data.csv\"\n",
        "    df.to_csv(output_file, index=False)\n",
        "    print(f\"Summarized results saved to {output_file}\")\n",
        "\n",
        "if __name__ == \"__main__\":\n",
        "    csv_file = input(\"Enter CSV file path: \")\n",
        "    api_key = input(\"Enter SerpAPI key: \")\n",
        "    process_csv(csv_file, api_key)"
      ],
      "metadata": {
        "colab": {
          "base_uri": "https://localhost:8080/"
        },
        "id": "K9W8RZwMAtfC",
        "outputId": "5c8ac2c6-8340-4f0a-d3ae-6adea018a5b3"
      },
      "execution_count": 7,
      "outputs": [
        {
          "output_type": "stream",
          "name": "stdout",
          "text": [
            "Enter CSV file path: /content/google_search_results.csv\n",
            "Enter SerpAPI key: your-serpapi-key-here\n",
            "Summarized results saved to summarized_data.csv\n"
          ]
        }
      ]
    },
    {
      "cell_type": "code",
      "source": [],
      "metadata": {
        "id": "Xaj905bsC_ww"
      },
      "execution_count": null,
      "outputs": []
    }
  ]
}
